{
 "cells": [
  {
   "cell_type": "markdown",
   "metadata": {},
   "source": [
    "# Collaborative filtering\n",
    "\n",
    "\n",
    "With _collaborative filtering_, we will not use any external features, but use the pairwise relationship between users and item directly.  \n",
    "\n",
    "A great advantage: Making recommendations based on seemingly unrelated topics.  For example, we can keep track of someone's beer and movie ratings, and predict beer tastes based on someone's movie preferences (assuming there's a correlation between the two).\n",
    "\n",
    "We have two kinds of collaborative filtering:\n",
    "\n",
    "- `Item-based collaborative filtering`\n",
    "- `Model-based collaborative filtering`\n",
    "\n",
    "<hr>\n",
    "\n",
    "## Item-based collaborative filtering\n",
    "\n",
    "For _item-based collaborative filtering_, recommendations for each user are based on similar items that the user has already rated highly. \n",
    "\n",
    "\"because you liked this, we think you'd also like this..\". "
   ]
  },
  {
   "cell_type": "markdown",
   "metadata": {},
   "source": [
    "#### Example: Who To Follow — Recommending Brands\n",
    "\n",
    "In this example, we consider a simple dataset: users following brands. We only know of a user follows a brand or not, but not how much he or she likes this brand.  Given the brands the user is following, we would like to recommend similar brands that s/he might be interested in.  "
   ]
  },
  {
   "cell_type": "code",
   "execution_count": 1,
   "metadata": {
    "collapsed": false
   },
   "outputs": [],
   "source": [
    "import numpy as np\n",
    "import pandas as pd\n",
    "import seaborn as sb\n",
    "from matplotlib import pyplot as plt\n",
    "%matplotlib inline"
   ]
  },
  {
   "cell_type": "code",
   "execution_count": 80,
   "metadata": {
    "collapsed": false
   },
   "outputs": [
    {
     "name": "stdout",
     "output_type": "stream",
     "text": [
      "We have 23804 pairs of ratings between 3759 users and 198 brands.\n"
     ]
    },
    {
     "data": {
      "text/html": [
       "<div>\n",
       "<table border=\"1\" class=\"dataframe\">\n",
       "  <thead>\n",
       "    <tr style=\"text-align: right;\">\n",
       "      <th></th>\n",
       "      <th>id</th>\n",
       "      <th>brand</th>\n",
       "    </tr>\n",
       "  </thead>\n",
       "  <tbody>\n",
       "    <tr>\n",
       "      <th>0</th>\n",
       "      <td>80002</td>\n",
       "      <td>Target</td>\n",
       "    </tr>\n",
       "    <tr>\n",
       "      <th>1</th>\n",
       "      <td>80002</td>\n",
       "      <td>Home Depot</td>\n",
       "    </tr>\n",
       "    <tr>\n",
       "      <th>2</th>\n",
       "      <td>80010</td>\n",
       "      <td>Levi's</td>\n",
       "    </tr>\n",
       "    <tr>\n",
       "      <th>3</th>\n",
       "      <td>80010</td>\n",
       "      <td>Puma</td>\n",
       "    </tr>\n",
       "    <tr>\n",
       "      <th>4</th>\n",
       "      <td>80010</td>\n",
       "      <td>Cuisinart</td>\n",
       "    </tr>\n",
       "  </tbody>\n",
       "</table>\n",
       "</div>"
      ],
      "text/plain": [
       "      id       brand\n",
       "0  80002      Target\n",
       "1  80002  Home Depot\n",
       "2  80010      Levi's\n",
       "3  80010        Puma\n",
       "4  80010   Cuisinart"
      ]
     },
     "execution_count": 80,
     "metadata": {},
     "output_type": "execute_result"
    }
   ],
   "source": [
    "data = pd.read_csv('user-brands.csv')\n",
    "print \"We have %d pairs of ratings between %s users and %s brands.\" % \\\n",
    "    (len(data), data.id.nunique(), data.brand.nunique())\n",
    "data.head()"
   ]
  },
  {
   "cell_type": "markdown",
   "metadata": {},
   "source": [
    "### Step 1: Create a User-by-brand matrix\n",
    "\n",
    "Note that our data above is in condensed format. We could make it into a sparse matrix, which might be easier to work with.  You could do this with `pd.pivot_table`:\n",
    "\n",
    "    M = pd.pivot_table(data, index='id', columns='brand', aggfunc='size', fill_value=0)\n",
    "\n",
    "We use a `groupby` statement, which gives us a multi-index series, and then we make an `unstack` call to transform it into a dataframe again.  "
   ]
  },
  {
   "cell_type": "code",
   "execution_count": 30,
   "metadata": {
    "collapsed": false
   },
   "outputs": [
    {
     "data": {
      "text/html": [
       "<div>\n",
       "<table border=\"1\" class=\"dataframe\">\n",
       "  <thead>\n",
       "    <tr style=\"text-align: right;\">\n",
       "      <th>brand</th>\n",
       "      <th>6pm.com</th>\n",
       "      <th>Abercrombie &amp; Fitch</th>\n",
       "      <th>Adidas</th>\n",
       "      <th>Aeropostale</th>\n",
       "      <th>Aldo</th>\n",
       "      <th>All Saints</th>\n",
       "      <th>Amazon.com</th>\n",
       "      <th>American Apparel</th>\n",
       "      <th>American Eagle</th>\n",
       "      <th>Ann Taylor</th>\n",
       "      <th>...</th>\n",
       "      <th>Walgreens</th>\n",
       "      <th>Walk-Over</th>\n",
       "      <th>Wet Seal</th>\n",
       "      <th>Windsor</th>\n",
       "      <th>YSL</th>\n",
       "      <th>Yves Saint Laurent</th>\n",
       "      <th>ZOO</th>\n",
       "      <th>Zara</th>\n",
       "      <th>Zipcar</th>\n",
       "      <th>vineyard vines</th>\n",
       "    </tr>\n",
       "    <tr>\n",
       "      <th>id</th>\n",
       "      <th></th>\n",
       "      <th></th>\n",
       "      <th></th>\n",
       "      <th></th>\n",
       "      <th></th>\n",
       "      <th></th>\n",
       "      <th></th>\n",
       "      <th></th>\n",
       "      <th></th>\n",
       "      <th></th>\n",
       "      <th></th>\n",
       "      <th></th>\n",
       "      <th></th>\n",
       "      <th></th>\n",
       "      <th></th>\n",
       "      <th></th>\n",
       "      <th></th>\n",
       "      <th></th>\n",
       "      <th></th>\n",
       "      <th></th>\n",
       "      <th></th>\n",
       "    </tr>\n",
       "  </thead>\n",
       "  <tbody>\n",
       "    <tr>\n",
       "      <th>80002</th>\n",
       "      <td>0.0</td>\n",
       "      <td>0.0</td>\n",
       "      <td>0.0</td>\n",
       "      <td>0.0</td>\n",
       "      <td>0.0</td>\n",
       "      <td>0.0</td>\n",
       "      <td>0.0</td>\n",
       "      <td>0.0</td>\n",
       "      <td>0.0</td>\n",
       "      <td>0.0</td>\n",
       "      <td>...</td>\n",
       "      <td>0.0</td>\n",
       "      <td>0.0</td>\n",
       "      <td>0.0</td>\n",
       "      <td>0.0</td>\n",
       "      <td>0.0</td>\n",
       "      <td>0.0</td>\n",
       "      <td>0.0</td>\n",
       "      <td>0.0</td>\n",
       "      <td>0.0</td>\n",
       "      <td>0.0</td>\n",
       "    </tr>\n",
       "    <tr>\n",
       "      <th>80010</th>\n",
       "      <td>0.0</td>\n",
       "      <td>0.0</td>\n",
       "      <td>0.0</td>\n",
       "      <td>0.0</td>\n",
       "      <td>0.0</td>\n",
       "      <td>0.0</td>\n",
       "      <td>0.0</td>\n",
       "      <td>0.0</td>\n",
       "      <td>0.0</td>\n",
       "      <td>0.0</td>\n",
       "      <td>...</td>\n",
       "      <td>0.0</td>\n",
       "      <td>0.0</td>\n",
       "      <td>0.0</td>\n",
       "      <td>0.0</td>\n",
       "      <td>0.0</td>\n",
       "      <td>0.0</td>\n",
       "      <td>0.0</td>\n",
       "      <td>0.0</td>\n",
       "      <td>0.0</td>\n",
       "      <td>0.0</td>\n",
       "    </tr>\n",
       "    <tr>\n",
       "      <th>80011</th>\n",
       "      <td>0.0</td>\n",
       "      <td>0.0</td>\n",
       "      <td>0.0</td>\n",
       "      <td>0.0</td>\n",
       "      <td>0.0</td>\n",
       "      <td>0.0</td>\n",
       "      <td>0.0</td>\n",
       "      <td>0.0</td>\n",
       "      <td>0.0</td>\n",
       "      <td>0.0</td>\n",
       "      <td>...</td>\n",
       "      <td>0.0</td>\n",
       "      <td>0.0</td>\n",
       "      <td>0.0</td>\n",
       "      <td>0.0</td>\n",
       "      <td>0.0</td>\n",
       "      <td>0.0</td>\n",
       "      <td>0.0</td>\n",
       "      <td>0.0</td>\n",
       "      <td>0.0</td>\n",
       "      <td>0.0</td>\n",
       "    </tr>\n",
       "  </tbody>\n",
       "</table>\n",
       "<p>3 rows × 198 columns</p>\n",
       "</div>"
      ],
      "text/plain": [
       "brand  6pm.com  Abercrombie & Fitch  Adidas  Aeropostale  Aldo  All Saints  \\\n",
       "id                                                                           \n",
       "80002      0.0                  0.0     0.0          0.0   0.0         0.0   \n",
       "80010      0.0                  0.0     0.0          0.0   0.0         0.0   \n",
       "80011      0.0                  0.0     0.0          0.0   0.0         0.0   \n",
       "\n",
       "brand  Amazon.com  American Apparel  American Eagle  Ann Taylor  \\\n",
       "id                                                                \n",
       "80002         0.0               0.0             0.0         0.0   \n",
       "80010         0.0               0.0             0.0         0.0   \n",
       "80011         0.0               0.0             0.0         0.0   \n",
       "\n",
       "brand       ...        Walgreens  Walk-Over  Wet Seal  Windsor  YSL  \\\n",
       "id          ...                                                       \n",
       "80002       ...              0.0        0.0       0.0      0.0  0.0   \n",
       "80010       ...              0.0        0.0       0.0      0.0  0.0   \n",
       "80011       ...              0.0        0.0       0.0      0.0  0.0   \n",
       "\n",
       "brand  Yves Saint Laurent  ZOO  Zara  Zipcar  vineyard vines  \n",
       "id                                                            \n",
       "80002                 0.0  0.0   0.0     0.0             0.0  \n",
       "80010                 0.0  0.0   0.0     0.0             0.0  \n",
       "80011                 0.0  0.0   0.0     0.0             0.0  \n",
       "\n",
       "[3 rows x 198 columns]"
      ]
     },
     "execution_count": 30,
     "metadata": {},
     "output_type": "execute_result"
    }
   ],
   "source": [
    "M = data.groupby(['id', 'brand']).size().unstack().fillna(0)\n",
    "n_users, n_brands = M.shape\n",
    "brands = M.columns\n",
    "M.head(3)"
   ]
  },
  {
   "cell_type": "markdown",
   "metadata": {},
   "source": [
    "### Step 2: Create a brand-by-brand matrix, with the similarity distances between two brands in each cell\n",
    "\n",
    "- Obviously, you'd have $Distance_{ii} = 0$ for each brand $i$, and $Distance_{ij} = Distance_{ji}$ for each pair of brands.\n",
    "- You can create a 2-dimenional `np.array` for this, or a nested dictionary `Distance = {i: {j1: distance1, j2: distance2, etc}}`, or anything you like.\n",
    "\n",
    "Since we will use a neighborhood method, we need a definition of _distance_.  We'll use the _Jaccard distance_ for this. (Also see an earlier notebook on SVD which covered the Jaccard distance.)"
   ]
  },
  {
   "cell_type": "markdown",
   "metadata": {},
   "source": [
    "#### Jaccard distance\n",
    "\n",
    "The [_Jaccard index_](https://en.wikipedia.org/wiki/Jaccard_index) is a similarity metric between two sets.  It measures how many elements two sets have in common, as a fraction of the total number of distinct elements in both sets.  \n",
    "\n",
    "$$\\text{Jaccard index} = \\frac{ |A \\cap B | }{ |A \\cup B| }$$\n",
    "\n",
    "We could make a Jaccard matrix $J$, with pairwise similarities $J_{ij}$ as entries.\n",
    "- `J[i, j]` = Jaccard similarity between doc _i_ and _j_ (between 0 and 1)\n",
    "- `J[i, i]` = 1, obviously, and\n",
    "- `J[i, j]` = `J[i, j]`, i.e., the matrix is symmetric.\n",
    "\n",
    "We could also define the [_Jaccard distance_](https://en.wikipedia.org/wiki/Jaccard_distance) , which has $D_{ii} = 0$ for identical sets, and bigger values as the sets have less words in common.  We define: $D = 1 - J,$ which has values between 0 and 1.\n",
    "\n",
    "Common applications of the Jaccard index include text clustering, but we can use it for brand clustering as well, counting the number of followers they have in common."
   ]
  },
  {
   "cell_type": "code",
   "execution_count": 5,
   "metadata": {
    "collapsed": false
   },
   "outputs": [],
   "source": [
    "def jaccard_distance(M):\n",
    "    I = M.T.dot(M)  # number of users in common \n",
    "    n_users_per_brand = np.diag(I)\n",
    "    N = n_users_per_brand.reshape(n_brands, 1) * np.ones(n_brands)\n",
    "    U = N + N.T - I  # total unique followers = n_users_i + n_users_j - users in common\n",
    "    J = I / U.astype(float)  # similarity matrix\n",
    "    D = 1 - J  # distance\n",
    "    return D"
   ]
  },
  {
   "cell_type": "code",
   "execution_count": 6,
   "metadata": {
    "collapsed": false
   },
   "outputs": [
    {
     "data": {
      "text/html": [
       "<div>\n",
       "<table border=\"1\" class=\"dataframe\">\n",
       "  <thead>\n",
       "    <tr style=\"text-align: right;\">\n",
       "      <th>brand</th>\n",
       "      <th>6pm.com</th>\n",
       "      <th>Abercrombie &amp; Fitch</th>\n",
       "      <th>Adidas</th>\n",
       "      <th>Aeropostale</th>\n",
       "      <th>Aldo</th>\n",
       "      <th>All Saints</th>\n",
       "      <th>Amazon.com</th>\n",
       "      <th>American Apparel</th>\n",
       "      <th>American Eagle</th>\n",
       "      <th>Ann Taylor</th>\n",
       "      <th>...</th>\n",
       "      <th>Walgreens</th>\n",
       "      <th>Walk-Over</th>\n",
       "      <th>Wet Seal</th>\n",
       "      <th>Windsor</th>\n",
       "      <th>YSL</th>\n",
       "      <th>Yves Saint Laurent</th>\n",
       "      <th>ZOO</th>\n",
       "      <th>Zara</th>\n",
       "      <th>Zipcar</th>\n",
       "      <th>vineyard vines</th>\n",
       "    </tr>\n",
       "    <tr>\n",
       "      <th>brand</th>\n",
       "      <th></th>\n",
       "      <th></th>\n",
       "      <th></th>\n",
       "      <th></th>\n",
       "      <th></th>\n",
       "      <th></th>\n",
       "      <th></th>\n",
       "      <th></th>\n",
       "      <th></th>\n",
       "      <th></th>\n",
       "      <th></th>\n",
       "      <th></th>\n",
       "      <th></th>\n",
       "      <th></th>\n",
       "      <th></th>\n",
       "      <th></th>\n",
       "      <th></th>\n",
       "      <th></th>\n",
       "      <th></th>\n",
       "      <th></th>\n",
       "      <th></th>\n",
       "    </tr>\n",
       "  </thead>\n",
       "  <tbody>\n",
       "    <tr>\n",
       "      <th>6pm.com</th>\n",
       "      <td>0.000000</td>\n",
       "      <td>0.996255</td>\n",
       "      <td>0.996154</td>\n",
       "      <td>0.996241</td>\n",
       "      <td>1.0</td>\n",
       "      <td>1.0</td>\n",
       "      <td>1.0</td>\n",
       "      <td>0.996183</td>\n",
       "      <td>0.996441</td>\n",
       "      <td>0.992481</td>\n",
       "      <td>...</td>\n",
       "      <td>1.0</td>\n",
       "      <td>1.0</td>\n",
       "      <td>1.0000</td>\n",
       "      <td>1.0</td>\n",
       "      <td>1.0</td>\n",
       "      <td>1.0</td>\n",
       "      <td>1.0</td>\n",
       "      <td>1.000000</td>\n",
       "      <td>1.0</td>\n",
       "      <td>1.0</td>\n",
       "    </tr>\n",
       "    <tr>\n",
       "      <th>Abercrombie &amp; Fitch</th>\n",
       "      <td>0.996255</td>\n",
       "      <td>0.000000</td>\n",
       "      <td>1.000000</td>\n",
       "      <td>0.928571</td>\n",
       "      <td>1.0</td>\n",
       "      <td>1.0</td>\n",
       "      <td>1.0</td>\n",
       "      <td>1.000000</td>\n",
       "      <td>0.888889</td>\n",
       "      <td>1.000000</td>\n",
       "      <td>...</td>\n",
       "      <td>1.0</td>\n",
       "      <td>1.0</td>\n",
       "      <td>0.9375</td>\n",
       "      <td>1.0</td>\n",
       "      <td>1.0</td>\n",
       "      <td>1.0</td>\n",
       "      <td>1.0</td>\n",
       "      <td>0.909091</td>\n",
       "      <td>1.0</td>\n",
       "      <td>1.0</td>\n",
       "    </tr>\n",
       "    <tr>\n",
       "      <th>Adidas</th>\n",
       "      <td>0.996154</td>\n",
       "      <td>1.000000</td>\n",
       "      <td>0.000000</td>\n",
       "      <td>1.000000</td>\n",
       "      <td>1.0</td>\n",
       "      <td>1.0</td>\n",
       "      <td>1.0</td>\n",
       "      <td>1.000000</td>\n",
       "      <td>1.000000</td>\n",
       "      <td>1.000000</td>\n",
       "      <td>...</td>\n",
       "      <td>1.0</td>\n",
       "      <td>1.0</td>\n",
       "      <td>1.0000</td>\n",
       "      <td>1.0</td>\n",
       "      <td>1.0</td>\n",
       "      <td>1.0</td>\n",
       "      <td>1.0</td>\n",
       "      <td>1.000000</td>\n",
       "      <td>1.0</td>\n",
       "      <td>1.0</td>\n",
       "    </tr>\n",
       "  </tbody>\n",
       "</table>\n",
       "<p>3 rows × 198 columns</p>\n",
       "</div>"
      ],
      "text/plain": [
       "brand                 6pm.com  Abercrombie & Fitch    Adidas  Aeropostale  \\\n",
       "brand                                                                       \n",
       "6pm.com              0.000000             0.996255  0.996154     0.996241   \n",
       "Abercrombie & Fitch  0.996255             0.000000  1.000000     0.928571   \n",
       "Adidas               0.996154             1.000000  0.000000     1.000000   \n",
       "\n",
       "brand                Aldo  All Saints  Amazon.com  American Apparel  \\\n",
       "brand                                                                 \n",
       "6pm.com               1.0         1.0         1.0          0.996183   \n",
       "Abercrombie & Fitch   1.0         1.0         1.0          1.000000   \n",
       "Adidas                1.0         1.0         1.0          1.000000   \n",
       "\n",
       "brand                American Eagle  Ann Taylor       ...        Walgreens  \\\n",
       "brand                                                 ...                    \n",
       "6pm.com                    0.996441    0.992481       ...              1.0   \n",
       "Abercrombie & Fitch        0.888889    1.000000       ...              1.0   \n",
       "Adidas                     1.000000    1.000000       ...              1.0   \n",
       "\n",
       "brand                Walk-Over  Wet Seal  Windsor  YSL  Yves Saint Laurent  \\\n",
       "brand                                                                        \n",
       "6pm.com                    1.0    1.0000      1.0  1.0                 1.0   \n",
       "Abercrombie & Fitch        1.0    0.9375      1.0  1.0                 1.0   \n",
       "Adidas                     1.0    1.0000      1.0  1.0                 1.0   \n",
       "\n",
       "brand                ZOO      Zara  Zipcar  vineyard vines  \n",
       "brand                                                       \n",
       "6pm.com              1.0  1.000000     1.0             1.0  \n",
       "Abercrombie & Fitch  1.0  0.909091     1.0             1.0  \n",
       "Adidas               1.0  1.000000     1.0             1.0  \n",
       "\n",
       "[3 rows x 198 columns]"
      ]
     },
     "execution_count": 6,
     "metadata": {},
     "output_type": "execute_result"
    }
   ],
   "source": [
    "brand_distance = jaccard_distance(M)\n",
    "brand_distance.head(3)"
   ]
  },
  {
   "cell_type": "markdown",
   "metadata": {},
   "source": [
    "Note that this is a _distance_ matrix, so the lower, the closer, the more similar.  Hence we have zeros on the diagonal.\n",
    "\n",
    "Let's show the top most similar brands for some known brands."
   ]
  },
  {
   "cell_type": "code",
   "execution_count": 72,
   "metadata": {
    "collapsed": false
   },
   "outputs": [
    {
     "name": "stdout",
     "output_type": "stream",
     "text": [
      "Home Depot          : Home Depot, Target, Kohl's, Old Navy, Crate & Barrel\n",
      "Armani              : Armani, Ecco, Hugo Boss, Giorgio Armani, Horchow\n",
      "UNIQLO              : UNIQLO, American Apparel, 6pm.com, Shoebuy, Columbia\n"
     ]
    }
   ],
   "source": [
    "top = 5\n",
    "for brand in ['Home Depot', 'Armani', 'UNIQLO']:\n",
    "    print \"%-20s:\" % brand, \n",
    "    print \", \".join(brand_distance[brand].sort_values(inplace=False).index[:top]) "
   ]
  },
  {
   "cell_type": "markdown",
   "metadata": {},
   "source": [
    "And let's pick some other random brands."
   ]
  },
  {
   "cell_type": "code",
   "execution_count": 114,
   "metadata": {
    "collapsed": false,
    "scrolled": true
   },
   "outputs": [
    {
     "name": "stdout",
     "output_type": "stream",
     "text": [
      "Top 5 similar brands for some random 5 brands\n",
      "Calvin Klein        : Calvin Klein, Guess, DKNY, Kenneth Cole, Steve Madden\n",
      "Lululemon           : Lululemon, Lord & Taylor, Saucony, Boden, UGG Australia\n",
      "L'occitane          : L'occitane, Discovery Channel Store, Prada, Abercrombie & Fitch, American Eagle\n",
      "O'Neill             : Rip Curl, Billabong, Roxy, O'Neill, Sephora\n",
      "Vera Bradley        : Vera Bradley, Shashi, Michael Kors, Coach, Victoria's Secret\n"
     ]
    }
   ],
   "source": [
    "n_show = 5  # show a few brands\n",
    "print \"Top %d similar brands for some random %d brands\" % (top, n_show)\n",
    "for brand in np.random.choice(brands, n_show, replace=False):\n",
    "    print \"%-20s:\" % brand, \n",
    "    print \", \".join(brand_distance[brand].sort_values(inplace=False).index[:top])"
   ]
  },
  {
   "cell_type": "markdown",
   "metadata": {},
   "source": [
    "### Step 3: Making recommendations for users\n",
    "\n",
    "   - Per user, find out the brands he/she is already following\n",
    "   - For each brand followed by this user, compute its distance to all other brands\n",
    "   - For each unfollowed brand, average its distances to all the already followed brands\n",
    "   - Identify the brands with the shortest average distance\n",
    " \n",
    "Make sure you exclude the brands the user is already following from the recommendations!"
   ]
  },
  {
   "cell_type": "code",
   "execution_count": 110,
   "metadata": {
    "collapsed": false
   },
   "outputs": [],
   "source": [
    "def recommend_brands_for_user(user, M, top=5):\n",
    "    user_brands = M.loc[user][M.loc[user] > 0].index  \n",
    "    brand_distance = jaccard_distance(M)        \n",
    "    recs = brand_distance[user_brands].mean(axis=1).sort_values(ascending=True, inplace=False).index\n",
    "    recs = [rec for rec in recs if rec not in user_brands]\n",
    "    return recs[:top]"
   ]
  },
  {
   "cell_type": "code",
   "execution_count": 116,
   "metadata": {
    "collapsed": false
   },
   "outputs": [
    {
     "name": "stdout",
     "output_type": "stream",
     "text": [
      "User 86082\n",
      "Already following: Cuisinart, Nine West, Shoebuy\n",
      "Recommended: KitchenAid, Crate & Barrel, DKNY, Steve Madden, Levi's\n",
      "\n",
      "User 87965\n",
      "Already following: Crate & Barrel, Home Depot, Nordstrom\n",
      "Recommended: Target, KitchenAid, Old Navy, Gap, Container Store\n",
      "\n",
      "User 80229\n",
      "Already following: Banana Republic, Guess, Home Depot, KitchenAid, Nordstrom, Shoebuy\n",
      "Recommended: Cuisinart, Crate & Barrel, Gap, Express, Target\n",
      "\n",
      "User 81277\n",
      "Already following: Crate & Barrel, Home Depot, Kohl's, Target\n",
      "Recommended: Old Navy, KitchenAid, Gap, Nordstrom, Container Store\n",
      "\n"
     ]
    }
   ],
   "source": [
    "n_users = 4\n",
    "# for user in [90217, 86156, 89116, 89112]:\n",
    "for user in np.random.choice(M.index, n_users, replace=False):\n",
    "    print \"User %s\" % user\n",
    "    print \"Already following:\", \", \".join(brands[M.loc[user] > 0])\n",
    "    print \"Recommended:\", \", \".join(recommend_brands_for_user(user, M))\n",
    "    print"
   ]
  },
  {
   "cell_type": "markdown",
   "metadata": {
    "collapsed": true
   },
   "source": [
    "<hr>\n",
    "\n",
    "## Model-based collaborative filtering\n",
    "\n",
    "In _model-based collaborative filtering_ we will estimate parameters for both items and users simultaneously.  This apporach is considered to be the state of the art and gets generally the highest prediction accuracy.\n",
    "\n",
    "The most popular model-based CF techniques use [_Matrix decomposition_](https://en.wikipedia.org/wiki/matrix_decomposition) techniques to find deeper structure in the ratings data.  For example, we could decompose the ratings matrix via SVD to reduce the dimensionality and extract latent variables. \n",
    "\n",
    "Once we identify the latent variables in the ratings matrix, we can express both users and items in terms of these latent variables.  As before, values in the item vectors represent the degree to which an item exhibits a given feature, and values in the user vectors represent user preferences for a given feature.  Ratings are constructed by taking dot products of user & item vectors in the latent feature space."
   ]
  },
  {
   "cell_type": "code",
   "execution_count": 13,
   "metadata": {
    "collapsed": true
   },
   "outputs": [],
   "source": [
    "from sklearn.decomposition import TruncatedSVD\n",
    "from sklearn.pipeline import make_pipeline\n",
    "from sklearn.preprocessing import Normalizer"
   ]
  },
  {
   "cell_type": "code",
   "execution_count": 117,
   "metadata": {
    "collapsed": false
   },
   "outputs": [
    {
     "name": "stdout",
     "output_type": "stream",
     "text": [
      "The original matrix has 3759 rows(users) and 198 columns(brands).\n"
     ]
    }
   ],
   "source": [
    "print \"The original matrix has {} rows(users) and {} columns(brands).\".format(M.shape[0],M.shape[1])"
   ]
  },
  {
   "cell_type": "code",
   "execution_count": 34,
   "metadata": {
    "collapsed": true
   },
   "outputs": [],
   "source": [
    "n_components = 30 \n",
    "svd = TruncatedSVD(n_components)\n",
    "X_red = svd.fit_transform(M)\n",
    "explained_variance = svd.explained_variance_ratio_.sum()"
   ]
  },
  {
   "cell_type": "code",
   "execution_count": 118,
   "metadata": {
    "collapsed": false
   },
   "outputs": [
    {
     "name": "stdout",
     "output_type": "stream",
     "text": [
      "The reduced matrix has 3759 rows and 30 columns.\n"
     ]
    }
   ],
   "source": [
    "print \"The reduced matrix has {} rows and {} columns.\".format(X_red.shape[0],X_red.shape[1])"
   ]
  },
  {
   "cell_type": "code",
   "execution_count": 94,
   "metadata": {
    "collapsed": false
   },
   "outputs": [
    {
     "name": "stdout",
     "output_type": "stream",
     "text": [
      "SVD with 30 components explained 83% of variance in preference\n"
     ]
    },
    {
     "data": {
      "image/png": "[encoded data removed]",
      "text/plain": [
       "<matplotlib.figure.Figure at 0x1219d5f50>"
      ]
     },
     "metadata": {},
     "output_type": "display_data"
    }
   ],
   "source": [
    "print \"SVD with {} components explained {:.0f}% of variance in preference\".format(n_components,explained_variance * 100)\n",
    "plt.plot(svd.explained_variance_ratio_.cumsum())\n",
    "f = plt.ylim(0,1)"
   ]
  },
  {
   "cell_type": "code",
   "execution_count": 101,
   "metadata": {
    "collapsed": false,
    "scrolled": true
   },
   "outputs": [
    {
     "data": {
      "image/png": "[encoded data removed]",
      "text/plain": [
       "<matplotlib.figure.Figure at 0x11f9dbf10>"
      ]
     },
     "metadata": {},
     "output_type": "display_data"
    }
   ],
   "source": [
    "top_rec = 10\n",
    "n_rows, n_cols = 2, 2\n",
    "top_components = n_rows * n_cols\n",
    "f, axes = plt.subplots(n_rows, n_cols, figsize=(20, n_rows * 3))\n",
    "for no, component in enumerate(svd.components_[:top_components]):\n",
    "    ax = axes[no / n_cols][no % n_cols]\n",
    "    s = pd.Series(svd.components_[no], index=brands).sort_values(inplace=False)[-top_rec:]\n",
    "    s.plot(kind='barh', ax=ax, title=\"Component %d\\nexplained variance %4.1f\" % \n",
    "           (no, 100 * svd.explained_variance_ratio_[no]))\n",
    "f = plt.tight_layout()"
   ]
  },
  {
   "cell_type": "code",
   "execution_count": 69,
   "metadata": {
    "collapsed": false
   },
   "outputs": [
    {
     "data": {
      "text/html": [
       "<div>\n",
       "<table border=\"1\" class=\"dataframe\">\n",
       "  <thead>\n",
       "    <tr style=\"text-align: right;\">\n",
       "      <th></th>\n",
       "      <th>id</th>\n",
       "      <th>brand</th>\n",
       "    </tr>\n",
       "  </thead>\n",
       "  <tbody>\n",
       "    <tr>\n",
       "      <th>10348</th>\n",
       "      <td>85467</td>\n",
       "      <td>New Balance</td>\n",
       "    </tr>\n",
       "    <tr>\n",
       "      <th>10349</th>\n",
       "      <td>85467</td>\n",
       "      <td>Target</td>\n",
       "    </tr>\n",
       "  </tbody>\n",
       "</table>\n",
       "</div>"
      ],
      "text/plain": [
       "          id        brand\n",
       "10348  85467  New Balance\n",
       "10349  85467       Target"
      ]
     },
     "execution_count": 69,
     "metadata": {},
     "output_type": "execute_result"
    }
   ],
   "source": [
    "user_id = np.random.choice(M.index.values)\n",
    "user_index = list(M.index.values).index(user_id)\n",
    "\n",
    "data[data.id==user_id]"
   ]
  },
  {
   "cell_type": "code",
   "execution_count": 63,
   "metadata": {
    "collapsed": false
   },
   "outputs": [
    {
     "data": {
      "image/png": "[encoded data removed]",
      "text/plain": [
       "<matplotlib.figure.Figure at 0x121369910>"
      ]
     },
     "metadata": {},
     "output_type": "display_data"
    }
   ],
   "source": [
    "recs = pd.Series(X_red[user_index])\n",
    "f = recs.sort_values(inplace=False)[-10:].plot(kind='barh', title='Top recommended categories for User %s' % user_id)"
   ]
  },
  {
   "cell_type": "code",
   "execution_count": 64,
   "metadata": {
    "collapsed": false
   },
   "outputs": [
    {
     "name": "stdout",
     "output_type": "stream",
     "text": [
      "Brands from top recommended category for user 85467: Steve Madden, BCBGMAXAZRIA, Lands' End, Columbia, Calvin Klein, Kate Spade, Guess, J.Crew, Container Store, New Balance\n"
     ]
    }
   ],
   "source": [
    "brands_from_top_category = pd.Series(svd.components_[recs.argmax()], index=brands)\n",
    "print \"Brands from top recommended category for User %s:\" % user_id,\n",
    "print ', '.join(brands_from_top_category.sort_values(inplace=False)[-top_rec:].index)"
   ]
  },
  {
   "cell_type": "markdown",
   "metadata": {},
   "source": [
    "Take dot product again to get individual brands recommended for user.  Note that brands are represented in different components, so this is really a different set than the one before."
   ]
  },
  {
   "cell_type": "code",
   "execution_count": 66,
   "metadata": {
    "collapsed": false
   },
   "outputs": [
    {
     "name": "stdout",
     "output_type": "stream",
     "text": [
      "Brands recommended for User 85467: Converse, Lands' End, Kate Spade, Mikasa, BCBGMAXAZRIA, Kenneth Cole, Shoebuy, Le Creuset, New Balance, Target\n"
     ]
    }
   ],
   "source": [
    "brands_recs = X_red[user_index].dot(svd.components_)\n",
    "brands_recs = pd.Series(brands_recs, index=brands)\n",
    "print \"Brands recommended for User %s:\" % user_id,\n",
    "print ', '.join(brands_recs.sort_values(inplace=False)[-top_rec:].index)"
   ]
  }
 ],
 "metadata": {
  "kernelspec": {
   "display_name": "Python 2",
   "language": "python",
   "name": "python2"
  },
  "language_info": {
   "codemirror_mode": {
    "name": "ipython",
    "version": 2
   },
   "file_extension": ".py",
   "mimetype": "text/x-python",
   "name": "python",
   "nbconvert_exporter": "python",
   "pygments_lexer": "ipython2",
   "version": "2.7.13"
  }
 },
 "nbformat": 4,
 "nbformat_minor": 0
}
